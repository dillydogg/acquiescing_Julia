{
 "cells": [
  {
   "cell_type": "markdown",
   "metadata": {},
   "source": [
    "# Collecting experiments data in a data frame\n",
    "\n",
    "### Bogumił Kamiński"
   ]
  },
  {
   "cell_type": "code",
   "execution_count": 1,
   "metadata": {},
   "outputs": [],
   "source": [
    "using DataFrames"
   ]
  },
  {
   "cell_type": "code",
   "execution_count": 2,
   "metadata": {},
   "outputs": [],
   "source": [
    "using Statistics"
   ]
  },
  {
   "cell_type": "code",
   "execution_count": 3,
   "metadata": {},
   "outputs": [],
   "source": [
    "using PyPlot"
   ]
  },
  {
   "cell_type": "markdown",
   "metadata": {},
   "source": [
    "<div class=\"alert alert-block alert-info\">\n",
    "    <p><b>PyPlot.jl configuration:</b></p>\n",
    "    <p>In some environments automatic installation of PyPlot.jl might fail. If you encounter this ussue please refer to <a href=\"https://github.com/JuliaPy/PyPlot.jl#installation\">the PyPlot.jl installation instructions</a>. </p>\n",
    "</div>\n",
    "\n",
    "In particular typically executing the following commands:\n",
    "\n",
    "```\n",
    "using Pkg\n",
    "ENV[\"PYTHON\"]=\"\"\n",
    "Pkg.build(\"PyCall\")\n",
    "```\n",
    "\n",
    "should resolve the PyPlot.jl installation issues. However, on OS X sometimes more configuration steps are required. You can find the detailed instructions [here](https://github.com/JuliaPy/PyPlot.jl#os-x)."
   ]
  },
  {
   "cell_type": "code",
   "execution_count": 4,
   "metadata": {},
   "outputs": [],
   "source": [
    "using Random"
   ]
  },
  {
   "cell_type": "code",
   "execution_count": 5,
   "metadata": {},
   "outputs": [],
   "source": [
    "using Pipe"
   ]
  },
  {
   "cell_type": "markdown",
   "metadata": {},
   "source": [
    "In this part we will run a simple Monte Carlo simulation so show examples how one can work with data frames."
   ]
  },
  {
   "cell_type": "markdown",
   "metadata": {},
   "source": [
    "Consider the following puzzle.\n",
    "\n",
    "We draw independent random numbers from $U(0,1)$ distribution. On the average, how many draws do we need, till the sum of these numbers exceeds $1$?"
   ]
  },
  {
   "cell_type": "markdown",
   "metadata": {},
   "source": [
    "Here is the code that runs this experiment once. For tutorial reasons we keep all the generated random numbers and recalculate their sum in each iteration (you can try to improve the efficiency of this code as an exercise)."
   ]
  },
  {
   "cell_type": "code",
   "execution_count": 6,
   "metadata": {},
   "outputs": [
    {
     "data": {
      "text/plain": [
       "sim_e (generic function with 1 method)"
      ]
     },
     "execution_count": 6,
     "metadata": {},
     "output_type": "execute_result"
    }
   ],
   "source": [
    "function sim_e()\n",
    "    draw = Float64[]\n",
    "    while true\n",
    "        push!(draw, rand())\n",
    "        sum(draw) > 1.0 && return draw\n",
    "    end\n",
    "end"
   ]
  },
  {
   "cell_type": "code",
   "execution_count": 7,
   "metadata": {},
   "outputs": [],
   "source": [
    "Random.seed!(1234); # just to make sure we get the same results if we are on the same version of Julia"
   ]
  },
  {
   "cell_type": "markdown",
   "metadata": {},
   "source": [
    "Let us run our simulation several times:"
   ]
  },
  {
   "cell_type": "code",
   "execution_count": 8,
   "metadata": {},
   "outputs": [
    {
     "data": {
      "text/plain": [
       "5-element Vector{Vector{Float64}}:\n",
       " [0.32597672886359486, 0.5490511363155669, 0.21858665481883066]\n",
       " [0.8942454282009883, 0.35311164439921205]\n",
       " [0.39425536741585077, 0.9531246272848422]\n",
       " [0.7955469475347194, 0.4942498668904206]\n",
       " [0.7484150218874741, 0.5782319465613976]"
      ]
     },
     "execution_count": 8,
     "metadata": {},
     "output_type": "execute_result"
    }
   ],
   "source": [
    "res = [sim_e() for _ in 1:5]"
   ]
  },
  {
   "cell_type": "markdown",
   "metadata": {},
   "source": [
    "and check that each time we finished just when we exceeded $1$:"
   ]
  },
  {
   "cell_type": "code",
   "execution_count": 9,
   "metadata": {},
   "outputs": [
    {
     "data": {
      "text/plain": [
       "5-element Vector{Float64}:\n",
       " 1.0936145199979923\n",
       " 1.2473570726002003\n",
       " 1.347379994700693\n",
       " 1.2897968144251402\n",
       " 1.3266469684488718"
      ]
     },
     "execution_count": 9,
     "metadata": {},
     "output_type": "execute_result"
    }
   ],
   "source": [
    "sum.(res)"
   ]
  },
  {
   "cell_type": "code",
   "execution_count": 10,
   "metadata": {},
   "outputs": [
    {
     "data": {
      "text/plain": [
       "5-element Vector{Float64}:\n",
       " 0.8750278651791616\n",
       " 0.8942454282009883\n",
       " 0.3942553674158509\n",
       " 0.7955469475347196\n",
       " 0.7484150218874741"
      ]
     },
     "execution_count": 10,
     "metadata": {},
     "output_type": "execute_result"
    }
   ],
   "source": [
    "@. sum(res) - last(res)"
   ]
  },
  {
   "cell_type": "markdown",
   "metadata": {},
   "source": [
    "All looks good so far! (and as a bonus we have just made a small exercise in broadcasting)"
   ]
  },
  {
   "cell_type": "markdown",
   "metadata": {},
   "source": [
    "Now let us populate a data frame with the results of our experiments"
   ]
  },
  {
   "cell_type": "code",
   "execution_count": 11,
   "metadata": {},
   "outputs": [
    {
     "name": "stdout",
     "output_type": "stream",
     "text": [
      " 10.462902 seconds (151.34 M allocations: 4.767 GiB, 29.37% gc time, 4.22% compilation time)\n"
     ]
    }
   ],
   "source": [
    "df = DataFrame()\n",
    "\n",
    "@time for i in 1:10^7\n",
    "    push!(df, (id=i, pos=sim_e()))\n",
    "end"
   ]
  },
  {
   "cell_type": "markdown",
   "metadata": {},
   "source": [
    "As you can see the process was quite fast, `push!`-ing data to a `DataFrame` is efficient."
   ]
  },
  {
   "cell_type": "code",
   "execution_count": 12,
   "metadata": {},
   "outputs": [
    {
     "data": {
      "text/html": [
       "<div class=\"data-frame\"><p>10,000,000 rows × 2 columns</p><table class=\"data-frame\"><thead><tr><th></th><th>id</th><th>pos</th></tr><tr><th></th><th title=\"Int64\">Int64</th><th title=\"Vector{Float64}\">Array…</th></tr></thead><tbody><tr><th>1</th><td>1</td><td>[0.727935, 0.00744801, 0.199377, 0.439243]</td></tr><tr><th>2</th><td>2</td><td>[0.682533, 0.956741]</td></tr><tr><th>3</th><td>3</td><td>[0.647855, 0.996665]</td></tr><tr><th>4</th><td>4</td><td>[0.749194, 0.110084, 0.491383]</td></tr><tr><th>5</th><td>5</td><td>[0.565145, 0.253812, 0.626794]</td></tr><tr><th>6</th><td>6</td><td>[0.234105, 0.124792, 0.609875, 0.672793]</td></tr><tr><th>7</th><td>7</td><td>[0.761916, 0.588872]</td></tr><tr><th>8</th><td>8</td><td>[0.365854, 0.131026, 0.946453]</td></tr><tr><th>9</th><td>9</td><td>[0.574323, 0.67765]</td></tr><tr><th>10</th><td>10</td><td>[0.571586, 0.0727161, 0.701116]</td></tr><tr><th>11</th><td>11</td><td>[0.0952175, 0.845515, 0.348995]</td></tr><tr><th>12</th><td>12</td><td>[0.768308, 0.26906]</td></tr><tr><th>13</th><td>13</td><td>[0.539631, 0.293905, 0.242195]</td></tr><tr><th>14</th><td>14</td><td>[0.97807, 0.853242]</td></tr><tr><th>15</th><td>15</td><td>[0.706065, 0.442139]</td></tr><tr><th>16</th><td>16</td><td>[0.884577, 0.520741]</td></tr><tr><th>17</th><td>17</td><td>[0.941831, 0.810699]</td></tr><tr><th>18</th><td>18</td><td>[0.464849, 0.977012]</td></tr><tr><th>19</th><td>19</td><td>[0.500161, 0.715846]</td></tr><tr><th>20</th><td>20</td><td>[0.18985, 0.376441, 0.565864]</td></tr><tr><th>21</th><td>21</td><td>[0.172236, 0.327351, 0.632108]</td></tr><tr><th>22</th><td>22</td><td>[0.374141, 0.728543]</td></tr><tr><th>23</th><td>23</td><td>[0.00277646, 0.134685, 0.531899, 0.0731709, 0.501756]</td></tr><tr><th>24</th><td>24</td><td>[0.906939, 0.116769]</td></tr><tr><th>25</th><td>25</td><td>[0.367198, 0.881163]</td></tr><tr><th>26</th><td>26</td><td>[0.67189, 0.479862]</td></tr><tr><th>27</th><td>27</td><td>[0.949968, 0.0262331, 0.347189]</td></tr><tr><th>28</th><td>28</td><td>[0.819254, 0.792831]</td></tr><tr><th>29</th><td>29</td><td>[0.96723, 0.471452]</td></tr><tr><th>30</th><td>30</td><td>[0.19378, 0.941781]</td></tr><tr><th>&vellip;</th><td>&vellip;</td><td>&vellip;</td></tr></tbody></table></div>"
      ],
      "text/latex": [
       "\\begin{tabular}{r|cc}\n",
       "\t& id & pos\\\\\n",
       "\t\\hline\n",
       "\t& Int64 & Array…\\\\\n",
       "\t\\hline\n",
       "\t1 & 1 & [0.727935, 0.00744801, 0.199377, 0.439243] \\\\\n",
       "\t2 & 2 & [0.682533, 0.956741] \\\\\n",
       "\t3 & 3 & [0.647855, 0.996665] \\\\\n",
       "\t4 & 4 & [0.749194, 0.110084, 0.491383] \\\\\n",
       "\t5 & 5 & [0.565145, 0.253812, 0.626794] \\\\\n",
       "\t6 & 6 & [0.234105, 0.124792, 0.609875, 0.672793] \\\\\n",
       "\t7 & 7 & [0.761916, 0.588872] \\\\\n",
       "\t8 & 8 & [0.365854, 0.131026, 0.946453] \\\\\n",
       "\t9 & 9 & [0.574323, 0.67765] \\\\\n",
       "\t10 & 10 & [0.571586, 0.0727161, 0.701116] \\\\\n",
       "\t11 & 11 & [0.0952175, 0.845515, 0.348995] \\\\\n",
       "\t12 & 12 & [0.768308, 0.26906] \\\\\n",
       "\t13 & 13 & [0.539631, 0.293905, 0.242195] \\\\\n",
       "\t14 & 14 & [0.97807, 0.853242] \\\\\n",
       "\t15 & 15 & [0.706065, 0.442139] \\\\\n",
       "\t16 & 16 & [0.884577, 0.520741] \\\\\n",
       "\t17 & 17 & [0.941831, 0.810699] \\\\\n",
       "\t18 & 18 & [0.464849, 0.977012] \\\\\n",
       "\t19 & 19 & [0.500161, 0.715846] \\\\\n",
       "\t20 & 20 & [0.18985, 0.376441, 0.565864] \\\\\n",
       "\t21 & 21 & [0.172236, 0.327351, 0.632108] \\\\\n",
       "\t22 & 22 & [0.374141, 0.728543] \\\\\n",
       "\t23 & 23 & [0.00277646, 0.134685, 0.531899, 0.0731709, 0.501756] \\\\\n",
       "\t24 & 24 & [0.906939, 0.116769] \\\\\n",
       "\t25 & 25 & [0.367198, 0.881163] \\\\\n",
       "\t26 & 26 & [0.67189, 0.479862] \\\\\n",
       "\t27 & 27 & [0.949968, 0.0262331, 0.347189] \\\\\n",
       "\t28 & 28 & [0.819254, 0.792831] \\\\\n",
       "\t29 & 29 & [0.96723, 0.471452] \\\\\n",
       "\t30 & 30 & [0.19378, 0.941781] \\\\\n",
       "\t$\\dots$ & $\\dots$ & $\\dots$ \\\\\n",
       "\\end{tabular}\n"
      ],
      "text/plain": [
       "\u001b[1m10000000×2 DataFrame\u001b[0m\n",
       "\u001b[1m      Row \u001b[0m│\u001b[1m id       \u001b[0m\u001b[1m pos                               \u001b[0m\n",
       "\u001b[1m          \u001b[0m│\u001b[90m Int64    \u001b[0m\u001b[90m Array…                            \u001b[0m\n",
       "──────────┼─────────────────────────────────────────────\n",
       "        1 │        1  [0.727935, 0.00744801, 0.199377,…\n",
       "        2 │        2  [0.682533, 0.956741]\n",
       "        3 │        3  [0.647855, 0.996665]\n",
       "        4 │        4  [0.749194, 0.110084, 0.491383]\n",
       "        5 │        5  [0.565145, 0.253812, 0.626794]\n",
       "        6 │        6  [0.234105, 0.124792, 0.609875, 0…\n",
       "        7 │        7  [0.761916, 0.588872]\n",
       "        8 │        8  [0.365854, 0.131026, 0.946453]\n",
       "        9 │        9  [0.574323, 0.67765]\n",
       "       10 │       10  [0.571586, 0.0727161, 0.701116]\n",
       "       11 │       11  [0.0952175, 0.845515, 0.348995]\n",
       "    ⋮     │    ⋮                      ⋮\n",
       "  9999991 │  9999991  [0.382258, 0.901623]\n",
       "  9999992 │  9999992  [0.640595, 0.916399]\n",
       "  9999993 │  9999993  [0.963508, 0.301685]\n",
       "  9999994 │  9999994  [0.846778, 0.328575]\n",
       "  9999995 │  9999995  [0.251749, 0.28344, 0.16416, 0.6…\n",
       "  9999996 │  9999996  [0.383316, 0.352557, 0.470778]\n",
       "  9999997 │  9999997  [0.362197, 0.639499]\n",
       "  9999998 │  9999998  [0.046897, 0.552855, 0.172669, 0…\n",
       "  9999999 │  9999999  [0.815608, 0.663247]\n",
       " 10000000 │ 10000000  [0.61177, 0.5798]\n",
       "\u001b[36m                                    9999979 rows omitted\u001b[0m"
      ]
     },
     "execution_count": 12,
     "metadata": {},
     "output_type": "execute_result"
    }
   ],
   "source": [
    "df"
   ]
  },
  {
   "cell_type": "markdown",
   "metadata": {},
   "source": [
    "Let us count the number of jumps we have made in each step using the `transform!` function:"
   ]
  },
  {
   "cell_type": "code",
   "execution_count": 13,
   "metadata": {
    "scrolled": true
   },
   "outputs": [
    {
     "data": {
      "text/html": [
       "<div class=\"data-frame\"><p>10,000,000 rows × 3 columns</p><table class=\"data-frame\"><thead><tr><th></th><th>id</th><th>pos</th><th>jumps</th></tr><tr><th></th><th title=\"Int64\">Int64</th><th title=\"Vector{Float64}\">Array…</th><th title=\"Int64\">Int64</th></tr></thead><tbody><tr><th>1</th><td>1</td><td>[0.727935, 0.00744801, 0.199377, 0.439243]</td><td>4</td></tr><tr><th>2</th><td>2</td><td>[0.682533, 0.956741]</td><td>2</td></tr><tr><th>3</th><td>3</td><td>[0.647855, 0.996665]</td><td>2</td></tr><tr><th>4</th><td>4</td><td>[0.749194, 0.110084, 0.491383]</td><td>3</td></tr><tr><th>5</th><td>5</td><td>[0.565145, 0.253812, 0.626794]</td><td>3</td></tr><tr><th>6</th><td>6</td><td>[0.234105, 0.124792, 0.609875, 0.672793]</td><td>4</td></tr><tr><th>7</th><td>7</td><td>[0.761916, 0.588872]</td><td>2</td></tr><tr><th>8</th><td>8</td><td>[0.365854, 0.131026, 0.946453]</td><td>3</td></tr><tr><th>9</th><td>9</td><td>[0.574323, 0.67765]</td><td>2</td></tr><tr><th>10</th><td>10</td><td>[0.571586, 0.0727161, 0.701116]</td><td>3</td></tr><tr><th>11</th><td>11</td><td>[0.0952175, 0.845515, 0.348995]</td><td>3</td></tr><tr><th>12</th><td>12</td><td>[0.768308, 0.26906]</td><td>2</td></tr><tr><th>13</th><td>13</td><td>[0.539631, 0.293905, 0.242195]</td><td>3</td></tr><tr><th>14</th><td>14</td><td>[0.97807, 0.853242]</td><td>2</td></tr><tr><th>15</th><td>15</td><td>[0.706065, 0.442139]</td><td>2</td></tr><tr><th>16</th><td>16</td><td>[0.884577, 0.520741]</td><td>2</td></tr><tr><th>17</th><td>17</td><td>[0.941831, 0.810699]</td><td>2</td></tr><tr><th>18</th><td>18</td><td>[0.464849, 0.977012]</td><td>2</td></tr><tr><th>19</th><td>19</td><td>[0.500161, 0.715846]</td><td>2</td></tr><tr><th>20</th><td>20</td><td>[0.18985, 0.376441, 0.565864]</td><td>3</td></tr><tr><th>21</th><td>21</td><td>[0.172236, 0.327351, 0.632108]</td><td>3</td></tr><tr><th>22</th><td>22</td><td>[0.374141, 0.728543]</td><td>2</td></tr><tr><th>23</th><td>23</td><td>[0.00277646, 0.134685, 0.531899, 0.0731709, 0.501756]</td><td>5</td></tr><tr><th>24</th><td>24</td><td>[0.906939, 0.116769]</td><td>2</td></tr><tr><th>25</th><td>25</td><td>[0.367198, 0.881163]</td><td>2</td></tr><tr><th>26</th><td>26</td><td>[0.67189, 0.479862]</td><td>2</td></tr><tr><th>27</th><td>27</td><td>[0.949968, 0.0262331, 0.347189]</td><td>3</td></tr><tr><th>28</th><td>28</td><td>[0.819254, 0.792831]</td><td>2</td></tr><tr><th>29</th><td>29</td><td>[0.96723, 0.471452]</td><td>2</td></tr><tr><th>30</th><td>30</td><td>[0.19378, 0.941781]</td><td>2</td></tr><tr><th>&vellip;</th><td>&vellip;</td><td>&vellip;</td><td>&vellip;</td></tr></tbody></table></div>"
      ],
      "text/latex": [
       "\\begin{tabular}{r|ccc}\n",
       "\t& id & pos & jumps\\\\\n",
       "\t\\hline\n",
       "\t& Int64 & Array… & Int64\\\\\n",
       "\t\\hline\n",
       "\t1 & 1 & [0.727935, 0.00744801, 0.199377, 0.439243] & 4 \\\\\n",
       "\t2 & 2 & [0.682533, 0.956741] & 2 \\\\\n",
       "\t3 & 3 & [0.647855, 0.996665] & 2 \\\\\n",
       "\t4 & 4 & [0.749194, 0.110084, 0.491383] & 3 \\\\\n",
       "\t5 & 5 & [0.565145, 0.253812, 0.626794] & 3 \\\\\n",
       "\t6 & 6 & [0.234105, 0.124792, 0.609875, 0.672793] & 4 \\\\\n",
       "\t7 & 7 & [0.761916, 0.588872] & 2 \\\\\n",
       "\t8 & 8 & [0.365854, 0.131026, 0.946453] & 3 \\\\\n",
       "\t9 & 9 & [0.574323, 0.67765] & 2 \\\\\n",
       "\t10 & 10 & [0.571586, 0.0727161, 0.701116] & 3 \\\\\n",
       "\t11 & 11 & [0.0952175, 0.845515, 0.348995] & 3 \\\\\n",
       "\t12 & 12 & [0.768308, 0.26906] & 2 \\\\\n",
       "\t13 & 13 & [0.539631, 0.293905, 0.242195] & 3 \\\\\n",
       "\t14 & 14 & [0.97807, 0.853242] & 2 \\\\\n",
       "\t15 & 15 & [0.706065, 0.442139] & 2 \\\\\n",
       "\t16 & 16 & [0.884577, 0.520741] & 2 \\\\\n",
       "\t17 & 17 & [0.941831, 0.810699] & 2 \\\\\n",
       "\t18 & 18 & [0.464849, 0.977012] & 2 \\\\\n",
       "\t19 & 19 & [0.500161, 0.715846] & 2 \\\\\n",
       "\t20 & 20 & [0.18985, 0.376441, 0.565864] & 3 \\\\\n",
       "\t21 & 21 & [0.172236, 0.327351, 0.632108] & 3 \\\\\n",
       "\t22 & 22 & [0.374141, 0.728543] & 2 \\\\\n",
       "\t23 & 23 & [0.00277646, 0.134685, 0.531899, 0.0731709, 0.501756] & 5 \\\\\n",
       "\t24 & 24 & [0.906939, 0.116769] & 2 \\\\\n",
       "\t25 & 25 & [0.367198, 0.881163] & 2 \\\\\n",
       "\t26 & 26 & [0.67189, 0.479862] & 2 \\\\\n",
       "\t27 & 27 & [0.949968, 0.0262331, 0.347189] & 3 \\\\\n",
       "\t28 & 28 & [0.819254, 0.792831] & 2 \\\\\n",
       "\t29 & 29 & [0.96723, 0.471452] & 2 \\\\\n",
       "\t30 & 30 & [0.19378, 0.941781] & 2 \\\\\n",
       "\t$\\dots$ & $\\dots$ & $\\dots$ & $\\dots$ \\\\\n",
       "\\end{tabular}\n"
      ],
      "text/plain": [
       "\u001b[1m10000000×3 DataFrame\u001b[0m\n",
       "\u001b[1m      Row \u001b[0m│\u001b[1m id       \u001b[0m\u001b[1m pos                               \u001b[0m\u001b[1m jumps \u001b[0m\n",
       "\u001b[1m          \u001b[0m│\u001b[90m Int64    \u001b[0m\u001b[90m Array…                            \u001b[0m\u001b[90m Int64 \u001b[0m\n",
       "──────────┼────────────────────────────────────────────────────\n",
       "        1 │        1  [0.727935, 0.00744801, 0.199377,…      4\n",
       "        2 │        2  [0.682533, 0.956741]                   2\n",
       "        3 │        3  [0.647855, 0.996665]                   2\n",
       "        4 │        4  [0.749194, 0.110084, 0.491383]         3\n",
       "        5 │        5  [0.565145, 0.253812, 0.626794]         3\n",
       "        6 │        6  [0.234105, 0.124792, 0.609875, 0…      4\n",
       "        7 │        7  [0.761916, 0.588872]                   2\n",
       "        8 │        8  [0.365854, 0.131026, 0.946453]         3\n",
       "        9 │        9  [0.574323, 0.67765]                    2\n",
       "       10 │       10  [0.571586, 0.0727161, 0.701116]        3\n",
       "       11 │       11  [0.0952175, 0.845515, 0.348995]        3\n",
       "    ⋮     │    ⋮                      ⋮                    ⋮\n",
       "  9999991 │  9999991  [0.382258, 0.901623]                   2\n",
       "  9999992 │  9999992  [0.640595, 0.916399]                   2\n",
       "  9999993 │  9999993  [0.963508, 0.301685]                   2\n",
       "  9999994 │  9999994  [0.846778, 0.328575]                   2\n",
       "  9999995 │  9999995  [0.251749, 0.28344, 0.16416, 0.6…      4\n",
       "  9999996 │  9999996  [0.383316, 0.352557, 0.470778]         3\n",
       "  9999997 │  9999997  [0.362197, 0.639499]                   2\n",
       "  9999998 │  9999998  [0.046897, 0.552855, 0.172669, 0…      5\n",
       "  9999999 │  9999999  [0.815608, 0.663247]                   2\n",
       " 10000000 │ 10000000  [0.61177, 0.5798]                      2\n",
       "\u001b[36m                                           9999979 rows omitted\u001b[0m"
      ]
     },
     "execution_count": 13,
     "metadata": {},
     "output_type": "execute_result"
    }
   ],
   "source": [
    "transform!(df, :pos => ByRow(length) => :jumps)"
   ]
  },
  {
   "cell_type": "markdown",
   "metadata": {},
   "source": [
    "Let us dissect what we have written above:\n",
    "* `transform!` adds columns to a data frame in-place\n",
    "* `:pos` is a source column\n",
    "* `ByRow(length)` tells us that we want to apply `length` function to each element for `:pos` column (without it `length` would be applied to the whole column - can you guess what would be the result?)\n",
    "* `:jumps` is the name of the column that should be created"
   ]
  },
  {
   "cell_type": "markdown",
   "metadata": {},
   "source": [
    "Now we are ready to find the average number of jumps that are made:"
   ]
  },
  {
   "cell_type": "code",
   "execution_count": 14,
   "metadata": {},
   "outputs": [
    {
     "data": {
      "text/plain": [
       "2.7183826"
      ]
     },
     "execution_count": 14,
     "metadata": {},
     "output_type": "execute_result"
    }
   ],
   "source": [
    "mean(df.jumps)"
   ]
  },
  {
   "cell_type": "markdown",
   "metadata": {},
   "source": [
    "or"
   ]
  },
  {
   "cell_type": "code",
   "execution_count": 15,
   "metadata": {},
   "outputs": [
    {
     "data": {
      "text/html": [
       "<div class=\"data-frame\"><p>1 rows × 1 columns</p><table class=\"data-frame\"><thead><tr><th></th><th>jumps_mean</th></tr><tr><th></th><th title=\"Float64\">Float64</th></tr></thead><tbody><tr><th>1</th><td>2.71838</td></tr></tbody></table></div>"
      ],
      "text/latex": [
       "\\begin{tabular}{r|c}\n",
       "\t& jumps\\_mean\\\\\n",
       "\t\\hline\n",
       "\t& Float64\\\\\n",
       "\t\\hline\n",
       "\t1 & 2.71838 \\\\\n",
       "\\end{tabular}\n"
      ],
      "text/plain": [
       "\u001b[1m1×1 DataFrame\u001b[0m\n",
       "\u001b[1m Row \u001b[0m│\u001b[1m jumps_mean \u001b[0m\n",
       "\u001b[1m     \u001b[0m│\u001b[90m Float64    \u001b[0m\n",
       "─────┼────────────\n",
       "   1 │    2.71838"
      ]
     },
     "execution_count": 15,
     "metadata": {},
     "output_type": "execute_result"
    }
   ],
   "source": [
    "combine(df, :jumps => mean)"
   ]
  },
  {
   "cell_type": "markdown",
   "metadata": {},
   "source": [
    "which happens to be very close to:"
   ]
  },
  {
   "cell_type": "code",
   "execution_count": 16,
   "metadata": {},
   "outputs": [
    {
     "data": {
      "text/plain": [
       "ℯ = 2.7182818284590..."
      ]
     },
     "execution_count": 16,
     "metadata": {},
     "output_type": "execute_result"
    }
   ],
   "source": [
    "MathConstants.e"
   ]
  },
  {
   "cell_type": "markdown",
   "metadata": {},
   "source": [
    "Let us now find a distribution of number of jumps:"
   ]
  },
  {
   "cell_type": "code",
   "execution_count": 17,
   "metadata": {},
   "outputs": [
    {
     "data": {
      "text/html": [
       "<div class=\"data-frame\"><p>10 rows × 2 columns</p><table class=\"data-frame\"><thead><tr><th></th><th>jumps</th><th>jumps_length</th></tr><tr><th></th><th title=\"Int64\">Int64</th><th title=\"Int64\">Int64</th></tr></thead><tbody><tr><th>1</th><td>2</td><td>5000265</td></tr><tr><th>2</th><td>3</td><td>3332702</td></tr><tr><th>3</th><td>4</td><td>1249879</td></tr><tr><th>4</th><td>5</td><td>333412</td></tr><tr><th>5</th><td>6</td><td>69869</td></tr><tr><th>6</th><td>7</td><td>11866</td></tr><tr><th>7</th><td>8</td><td>1754</td></tr><tr><th>8</th><td>9</td><td>227</td></tr><tr><th>9</th><td>10</td><td>23</td></tr><tr><th>10</th><td>11</td><td>3</td></tr></tbody></table></div>"
      ],
      "text/latex": [
       "\\begin{tabular}{r|cc}\n",
       "\t& jumps & jumps\\_length\\\\\n",
       "\t\\hline\n",
       "\t& Int64 & Int64\\\\\n",
       "\t\\hline\n",
       "\t1 & 2 & 5000265 \\\\\n",
       "\t2 & 3 & 3332702 \\\\\n",
       "\t3 & 4 & 1249879 \\\\\n",
       "\t4 & 5 & 333412 \\\\\n",
       "\t5 & 6 & 69869 \\\\\n",
       "\t6 & 7 & 11866 \\\\\n",
       "\t7 & 8 & 1754 \\\\\n",
       "\t8 & 9 & 227 \\\\\n",
       "\t9 & 10 & 23 \\\\\n",
       "\t10 & 11 & 3 \\\\\n",
       "\\end{tabular}\n"
      ],
      "text/plain": [
       "\u001b[1m10×2 DataFrame\u001b[0m\n",
       "\u001b[1m Row \u001b[0m│\u001b[1m jumps \u001b[0m\u001b[1m jumps_length \u001b[0m\n",
       "\u001b[1m     \u001b[0m│\u001b[90m Int64 \u001b[0m\u001b[90m Int64        \u001b[0m\n",
       "─────┼─────────────────────\n",
       "   1 │     2       5000265\n",
       "   2 │     3       3332702\n",
       "   3 │     4       1249879\n",
       "   4 │     5        333412\n",
       "   5 │     6         69869\n",
       "   6 │     7         11866\n",
       "   7 │     8          1754\n",
       "   8 │     9           227\n",
       "   9 │    10            23\n",
       "  10 │    11             3"
      ]
     },
     "execution_count": 17,
     "metadata": {},
     "output_type": "execute_result"
    }
   ],
   "source": [
    "jumps_agg = @pipe df |>\n",
    "                  groupby(_, :jumps, sort=true) |>\n",
    "                  combine(_, :jumps => length)"
   ]
  },
  {
   "cell_type": "markdown",
   "metadata": {},
   "source": [
    "and normalize it as a fraction (and at the same time calculate some theoretical result that we have *guessed* :)):"
   ]
  },
  {
   "cell_type": "code",
   "execution_count": 18,
   "metadata": {},
   "outputs": [
    {
     "data": {
      "text/html": [
       "<div class=\"data-frame\"><p>10 rows × 4 columns</p><table class=\"data-frame\"><thead><tr><th></th><th>jumps</th><th>jumps_length</th><th>simulation</th><th>theory</th></tr><tr><th></th><th title=\"Int64\">Int64</th><th title=\"Int64\">Int64</th><th title=\"Float64\">Float64</th><th title=\"Float64\">Float64</th></tr></thead><tbody><tr><th>1</th><td>2</td><td>5000265</td><td>0.500027</td><td>0.5</td></tr><tr><th>2</th><td>3</td><td>3332702</td><td>0.33327</td><td>0.333333</td></tr><tr><th>3</th><td>4</td><td>1249879</td><td>0.124988</td><td>0.125</td></tr><tr><th>4</th><td>5</td><td>333412</td><td>0.0333412</td><td>0.0333333</td></tr><tr><th>5</th><td>6</td><td>69869</td><td>0.0069869</td><td>0.00694444</td></tr><tr><th>6</th><td>7</td><td>11866</td><td>0.0011866</td><td>0.00119048</td></tr><tr><th>7</th><td>8</td><td>1754</td><td>0.0001754</td><td>0.000173611</td></tr><tr><th>8</th><td>9</td><td>227</td><td>2.27e-5</td><td>2.20459e-5</td></tr><tr><th>9</th><td>10</td><td>23</td><td>2.3e-6</td><td>2.48016e-6</td></tr><tr><th>10</th><td>11</td><td>3</td><td>3.0e-7</td><td>2.50521e-7</td></tr></tbody></table></div>"
      ],
      "text/latex": [
       "\\begin{tabular}{r|cccc}\n",
       "\t& jumps & jumps\\_length & simulation & theory\\\\\n",
       "\t\\hline\n",
       "\t& Int64 & Int64 & Float64 & Float64\\\\\n",
       "\t\\hline\n",
       "\t1 & 2 & 5000265 & 0.500027 & 0.5 \\\\\n",
       "\t2 & 3 & 3332702 & 0.33327 & 0.333333 \\\\\n",
       "\t3 & 4 & 1249879 & 0.124988 & 0.125 \\\\\n",
       "\t4 & 5 & 333412 & 0.0333412 & 0.0333333 \\\\\n",
       "\t5 & 6 & 69869 & 0.0069869 & 0.00694444 \\\\\n",
       "\t6 & 7 & 11866 & 0.0011866 & 0.00119048 \\\\\n",
       "\t7 & 8 & 1754 & 0.0001754 & 0.000173611 \\\\\n",
       "\t8 & 9 & 227 & 2.27e-5 & 2.20459e-5 \\\\\n",
       "\t9 & 10 & 23 & 2.3e-6 & 2.48016e-6 \\\\\n",
       "\t10 & 11 & 3 & 3.0e-7 & 2.50521e-7 \\\\\n",
       "\\end{tabular}\n"
      ],
      "text/plain": [
       "\u001b[1m10×4 DataFrame\u001b[0m\n",
       "\u001b[1m Row \u001b[0m│\u001b[1m jumps \u001b[0m\u001b[1m jumps_length \u001b[0m\u001b[1m simulation \u001b[0m\u001b[1m theory      \u001b[0m\n",
       "\u001b[1m     \u001b[0m│\u001b[90m Int64 \u001b[0m\u001b[90m Int64        \u001b[0m\u001b[90m Float64    \u001b[0m\u001b[90m Float64     \u001b[0m\n",
       "─────┼──────────────────────────────────────────────\n",
       "   1 │     2       5000265   0.500027   0.5\n",
       "   2 │     3       3332702   0.33327    0.333333\n",
       "   3 │     4       1249879   0.124988   0.125\n",
       "   4 │     5        333412   0.0333412  0.0333333\n",
       "   5 │     6         69869   0.0069869  0.00694444\n",
       "   6 │     7         11866   0.0011866  0.00119048\n",
       "   7 │     8          1754   0.0001754  0.000173611\n",
       "   8 │     9           227   2.27e-5    2.20459e-5\n",
       "   9 │    10            23   2.3e-6     2.48016e-6\n",
       "  10 │    11             3   3.0e-7     2.50521e-7"
      ]
     },
     "execution_count": 18,
     "metadata": {},
     "output_type": "execute_result"
    }
   ],
   "source": [
    "transform!(jumps_agg,\n",
    "           :jumps_length => (x -> x ./ sum(x)) => :simulation,\n",
    "           :jumps => ByRow(x -> (x-1) / factorial(x)) => :theory)"
   ]
  },
  {
   "cell_type": "markdown",
   "metadata": {},
   "source": [
    "Let us briefly justify how we have guessed it (you can safely skip the derivation):\n",
    "\n",
    "Formula\n",
    "$$\n",
    "p_n = \\frac{n-1}{n!}\n",
    "$$\n",
    "\n",
    "$$\n",
    "\\sum_{n=2}^{+\\infty}p_n=\\sum_{n=2}^{+\\infty} \\frac{n-1}{n!} = \\sum_{n=1}^{+\\infty} \\frac{1}{n!} - \\sum_{n=2}^{+\\infty} \\frac{1}{n!} = 1\n",
    "$$\n",
    "\n",
    "$$\n",
    "\\sum_{n=2}^{+\\infty}n\\cdot p_n=\\sum_{n=2}^{+\\infty} n\\frac{n-1}{n!} = \\sum_{n=2}^{+\\infty} \\frac{1}{(n-2)!} = e\n",
    "$$\n",
    "\n",
    "Now we note that:\n",
    "\n",
    "$$\n",
    "1-\\sum_{n=2}^k p_n = \\frac{1}{k!}\n",
    "$$\n",
    "which can be most easily justified by a geometric argument."
   ]
  },
  {
   "cell_type": "markdown",
   "metadata": {},
   "source": [
    "To finish this section of the tutorial let us check if random numbers generated using `rand()` were indeed $U(0,1)$."
   ]
  },
  {
   "cell_type": "markdown",
   "metadata": {},
   "source": [
    "To do this we will add some columns to `df` data frame."
   ]
  },
  {
   "cell_type": "code",
   "execution_count": 19,
   "metadata": {
    "scrolled": true
   },
   "outputs": [
    {
     "data": {
      "text/html": [
       "<div class=\"data-frame\"><p>10,000,000 rows × 3 columns</p><table class=\"data-frame\"><thead><tr><th></th><th>id</th><th>pos</th><th>jumps</th></tr><tr><th></th><th title=\"Int64\">Int64</th><th title=\"Vector{Float64}\">Array…</th><th title=\"Int64\">Int64</th></tr></thead><tbody><tr><th>1</th><td>1</td><td>[0.727935, 0.00744801, 0.199377, 0.439243]</td><td>4</td></tr><tr><th>2</th><td>2</td><td>[0.682533, 0.956741]</td><td>2</td></tr><tr><th>3</th><td>3</td><td>[0.647855, 0.996665]</td><td>2</td></tr><tr><th>4</th><td>4</td><td>[0.749194, 0.110084, 0.491383]</td><td>3</td></tr><tr><th>5</th><td>5</td><td>[0.565145, 0.253812, 0.626794]</td><td>3</td></tr><tr><th>6</th><td>6</td><td>[0.234105, 0.124792, 0.609875, 0.672793]</td><td>4</td></tr><tr><th>7</th><td>7</td><td>[0.761916, 0.588872]</td><td>2</td></tr><tr><th>8</th><td>8</td><td>[0.365854, 0.131026, 0.946453]</td><td>3</td></tr><tr><th>9</th><td>9</td><td>[0.574323, 0.67765]</td><td>2</td></tr><tr><th>10</th><td>10</td><td>[0.571586, 0.0727161, 0.701116]</td><td>3</td></tr><tr><th>11</th><td>11</td><td>[0.0952175, 0.845515, 0.348995]</td><td>3</td></tr><tr><th>12</th><td>12</td><td>[0.768308, 0.26906]</td><td>2</td></tr><tr><th>13</th><td>13</td><td>[0.539631, 0.293905, 0.242195]</td><td>3</td></tr><tr><th>14</th><td>14</td><td>[0.97807, 0.853242]</td><td>2</td></tr><tr><th>15</th><td>15</td><td>[0.706065, 0.442139]</td><td>2</td></tr><tr><th>16</th><td>16</td><td>[0.884577, 0.520741]</td><td>2</td></tr><tr><th>17</th><td>17</td><td>[0.941831, 0.810699]</td><td>2</td></tr><tr><th>18</th><td>18</td><td>[0.464849, 0.977012]</td><td>2</td></tr><tr><th>19</th><td>19</td><td>[0.500161, 0.715846]</td><td>2</td></tr><tr><th>20</th><td>20</td><td>[0.18985, 0.376441, 0.565864]</td><td>3</td></tr><tr><th>21</th><td>21</td><td>[0.172236, 0.327351, 0.632108]</td><td>3</td></tr><tr><th>22</th><td>22</td><td>[0.374141, 0.728543]</td><td>2</td></tr><tr><th>23</th><td>23</td><td>[0.00277646, 0.134685, 0.531899, 0.0731709, 0.501756]</td><td>5</td></tr><tr><th>24</th><td>24</td><td>[0.906939, 0.116769]</td><td>2</td></tr><tr><th>25</th><td>25</td><td>[0.367198, 0.881163]</td><td>2</td></tr><tr><th>26</th><td>26</td><td>[0.67189, 0.479862]</td><td>2</td></tr><tr><th>27</th><td>27</td><td>[0.949968, 0.0262331, 0.347189]</td><td>3</td></tr><tr><th>28</th><td>28</td><td>[0.819254, 0.792831]</td><td>2</td></tr><tr><th>29</th><td>29</td><td>[0.96723, 0.471452]</td><td>2</td></tr><tr><th>30</th><td>30</td><td>[0.19378, 0.941781]</td><td>2</td></tr><tr><th>&vellip;</th><td>&vellip;</td><td>&vellip;</td><td>&vellip;</td></tr></tbody></table></div>"
      ],
      "text/latex": [
       "\\begin{tabular}{r|ccc}\n",
       "\t& id & pos & jumps\\\\\n",
       "\t\\hline\n",
       "\t& Int64 & Array… & Int64\\\\\n",
       "\t\\hline\n",
       "\t1 & 1 & [0.727935, 0.00744801, 0.199377, 0.439243] & 4 \\\\\n",
       "\t2 & 2 & [0.682533, 0.956741] & 2 \\\\\n",
       "\t3 & 3 & [0.647855, 0.996665] & 2 \\\\\n",
       "\t4 & 4 & [0.749194, 0.110084, 0.491383] & 3 \\\\\n",
       "\t5 & 5 & [0.565145, 0.253812, 0.626794] & 3 \\\\\n",
       "\t6 & 6 & [0.234105, 0.124792, 0.609875, 0.672793] & 4 \\\\\n",
       "\t7 & 7 & [0.761916, 0.588872] & 2 \\\\\n",
       "\t8 & 8 & [0.365854, 0.131026, 0.946453] & 3 \\\\\n",
       "\t9 & 9 & [0.574323, 0.67765] & 2 \\\\\n",
       "\t10 & 10 & [0.571586, 0.0727161, 0.701116] & 3 \\\\\n",
       "\t11 & 11 & [0.0952175, 0.845515, 0.348995] & 3 \\\\\n",
       "\t12 & 12 & [0.768308, 0.26906] & 2 \\\\\n",
       "\t13 & 13 & [0.539631, 0.293905, 0.242195] & 3 \\\\\n",
       "\t14 & 14 & [0.97807, 0.853242] & 2 \\\\\n",
       "\t15 & 15 & [0.706065, 0.442139] & 2 \\\\\n",
       "\t16 & 16 & [0.884577, 0.520741] & 2 \\\\\n",
       "\t17 & 17 & [0.941831, 0.810699] & 2 \\\\\n",
       "\t18 & 18 & [0.464849, 0.977012] & 2 \\\\\n",
       "\t19 & 19 & [0.500161, 0.715846] & 2 \\\\\n",
       "\t20 & 20 & [0.18985, 0.376441, 0.565864] & 3 \\\\\n",
       "\t21 & 21 & [0.172236, 0.327351, 0.632108] & 3 \\\\\n",
       "\t22 & 22 & [0.374141, 0.728543] & 2 \\\\\n",
       "\t23 & 23 & [0.00277646, 0.134685, 0.531899, 0.0731709, 0.501756] & 5 \\\\\n",
       "\t24 & 24 & [0.906939, 0.116769] & 2 \\\\\n",
       "\t25 & 25 & [0.367198, 0.881163] & 2 \\\\\n",
       "\t26 & 26 & [0.67189, 0.479862] & 2 \\\\\n",
       "\t27 & 27 & [0.949968, 0.0262331, 0.347189] & 3 \\\\\n",
       "\t28 & 28 & [0.819254, 0.792831] & 2 \\\\\n",
       "\t29 & 29 & [0.96723, 0.471452] & 2 \\\\\n",
       "\t30 & 30 & [0.19378, 0.941781] & 2 \\\\\n",
       "\t$\\dots$ & $\\dots$ & $\\dots$ & $\\dots$ \\\\\n",
       "\\end{tabular}\n"
      ],
      "text/plain": [
       "\u001b[1m10000000×3 DataFrame\u001b[0m\n",
       "\u001b[1m      Row \u001b[0m│\u001b[1m id       \u001b[0m\u001b[1m pos                               \u001b[0m\u001b[1m jumps \u001b[0m\n",
       "\u001b[1m          \u001b[0m│\u001b[90m Int64    \u001b[0m\u001b[90m Array…                            \u001b[0m\u001b[90m Int64 \u001b[0m\n",
       "──────────┼────────────────────────────────────────────────────\n",
       "        1 │        1  [0.727935, 0.00744801, 0.199377,…      4\n",
       "        2 │        2  [0.682533, 0.956741]                   2\n",
       "        3 │        3  [0.647855, 0.996665]                   2\n",
       "        4 │        4  [0.749194, 0.110084, 0.491383]         3\n",
       "        5 │        5  [0.565145, 0.253812, 0.626794]         3\n",
       "        6 │        6  [0.234105, 0.124792, 0.609875, 0…      4\n",
       "        7 │        7  [0.761916, 0.588872]                   2\n",
       "        8 │        8  [0.365854, 0.131026, 0.946453]         3\n",
       "        9 │        9  [0.574323, 0.67765]                    2\n",
       "       10 │       10  [0.571586, 0.0727161, 0.701116]        3\n",
       "       11 │       11  [0.0952175, 0.845515, 0.348995]        3\n",
       "    ⋮     │    ⋮                      ⋮                    ⋮\n",
       "  9999991 │  9999991  [0.382258, 0.901623]                   2\n",
       "  9999992 │  9999992  [0.640595, 0.916399]                   2\n",
       "  9999993 │  9999993  [0.963508, 0.301685]                   2\n",
       "  9999994 │  9999994  [0.846778, 0.328575]                   2\n",
       "  9999995 │  9999995  [0.251749, 0.28344, 0.16416, 0.6…      4\n",
       "  9999996 │  9999996  [0.383316, 0.352557, 0.470778]         3\n",
       "  9999997 │  9999997  [0.362197, 0.639499]                   2\n",
       "  9999998 │  9999998  [0.046897, 0.552855, 0.172669, 0…      5\n",
       "  9999999 │  9999999  [0.815608, 0.663247]                   2\n",
       " 10000000 │ 10000000  [0.61177, 0.5798]                      2\n",
       "\u001b[36m                                           9999979 rows omitted\u001b[0m"
      ]
     },
     "execution_count": 19,
     "metadata": {},
     "output_type": "execute_result"
    }
   ],
   "source": [
    "df"
   ]
  },
  {
   "cell_type": "code",
   "execution_count": 20,
   "metadata": {},
   "outputs": [
    {
     "data": {
      "text/html": [
       "<div class=\"data-frame\"><p>10,000,000 rows × 2 columns</p><table class=\"data-frame\"><thead><tr><th></th><th>first</th><th>last</th></tr><tr><th></th><th title=\"Float64\">Float64</th><th title=\"Float64\">Float64</th></tr></thead><tbody><tr><th>1</th><td>0.727935</td><td>0.439243</td></tr><tr><th>2</th><td>0.682533</td><td>0.956741</td></tr><tr><th>3</th><td>0.647855</td><td>0.996665</td></tr><tr><th>4</th><td>0.749194</td><td>0.491383</td></tr><tr><th>5</th><td>0.565145</td><td>0.626794</td></tr><tr><th>6</th><td>0.234105</td><td>0.672793</td></tr><tr><th>7</th><td>0.761916</td><td>0.588872</td></tr><tr><th>8</th><td>0.365854</td><td>0.946453</td></tr><tr><th>9</th><td>0.574323</td><td>0.67765</td></tr><tr><th>10</th><td>0.571586</td><td>0.701116</td></tr><tr><th>11</th><td>0.0952175</td><td>0.348995</td></tr><tr><th>12</th><td>0.768308</td><td>0.26906</td></tr><tr><th>13</th><td>0.539631</td><td>0.242195</td></tr><tr><th>14</th><td>0.97807</td><td>0.853242</td></tr><tr><th>15</th><td>0.706065</td><td>0.442139</td></tr><tr><th>16</th><td>0.884577</td><td>0.520741</td></tr><tr><th>17</th><td>0.941831</td><td>0.810699</td></tr><tr><th>18</th><td>0.464849</td><td>0.977012</td></tr><tr><th>19</th><td>0.500161</td><td>0.715846</td></tr><tr><th>20</th><td>0.18985</td><td>0.565864</td></tr><tr><th>21</th><td>0.172236</td><td>0.632108</td></tr><tr><th>22</th><td>0.374141</td><td>0.728543</td></tr><tr><th>23</th><td>0.00277646</td><td>0.501756</td></tr><tr><th>24</th><td>0.906939</td><td>0.116769</td></tr><tr><th>25</th><td>0.367198</td><td>0.881163</td></tr><tr><th>26</th><td>0.67189</td><td>0.479862</td></tr><tr><th>27</th><td>0.949968</td><td>0.347189</td></tr><tr><th>28</th><td>0.819254</td><td>0.792831</td></tr><tr><th>29</th><td>0.96723</td><td>0.471452</td></tr><tr><th>30</th><td>0.19378</td><td>0.941781</td></tr><tr><th>&vellip;</th><td>&vellip;</td><td>&vellip;</td></tr></tbody></table></div>"
      ],
      "text/latex": [
       "\\begin{tabular}{r|cc}\n",
       "\t& first & last\\\\\n",
       "\t\\hline\n",
       "\t& Float64 & Float64\\\\\n",
       "\t\\hline\n",
       "\t1 & 0.727935 & 0.439243 \\\\\n",
       "\t2 & 0.682533 & 0.956741 \\\\\n",
       "\t3 & 0.647855 & 0.996665 \\\\\n",
       "\t4 & 0.749194 & 0.491383 \\\\\n",
       "\t5 & 0.565145 & 0.626794 \\\\\n",
       "\t6 & 0.234105 & 0.672793 \\\\\n",
       "\t7 & 0.761916 & 0.588872 \\\\\n",
       "\t8 & 0.365854 & 0.946453 \\\\\n",
       "\t9 & 0.574323 & 0.67765 \\\\\n",
       "\t10 & 0.571586 & 0.701116 \\\\\n",
       "\t11 & 0.0952175 & 0.348995 \\\\\n",
       "\t12 & 0.768308 & 0.26906 \\\\\n",
       "\t13 & 0.539631 & 0.242195 \\\\\n",
       "\t14 & 0.97807 & 0.853242 \\\\\n",
       "\t15 & 0.706065 & 0.442139 \\\\\n",
       "\t16 & 0.884577 & 0.520741 \\\\\n",
       "\t17 & 0.941831 & 0.810699 \\\\\n",
       "\t18 & 0.464849 & 0.977012 \\\\\n",
       "\t19 & 0.500161 & 0.715846 \\\\\n",
       "\t20 & 0.18985 & 0.565864 \\\\\n",
       "\t21 & 0.172236 & 0.632108 \\\\\n",
       "\t22 & 0.374141 & 0.728543 \\\\\n",
       "\t23 & 0.00277646 & 0.501756 \\\\\n",
       "\t24 & 0.906939 & 0.116769 \\\\\n",
       "\t25 & 0.367198 & 0.881163 \\\\\n",
       "\t26 & 0.67189 & 0.479862 \\\\\n",
       "\t27 & 0.949968 & 0.347189 \\\\\n",
       "\t28 & 0.819254 & 0.792831 \\\\\n",
       "\t29 & 0.96723 & 0.471452 \\\\\n",
       "\t30 & 0.19378 & 0.941781 \\\\\n",
       "\t$\\dots$ & $\\dots$ & $\\dots$ \\\\\n",
       "\\end{tabular}\n"
      ],
      "text/plain": [
       "\u001b[1m10000000×2 DataFrame\u001b[0m\n",
       "\u001b[1m      Row \u001b[0m│\u001b[1m first     \u001b[0m\u001b[1m last     \u001b[0m\n",
       "\u001b[1m          \u001b[0m│\u001b[90m Float64   \u001b[0m\u001b[90m Float64  \u001b[0m\n",
       "──────────┼─────────────────────\n",
       "        1 │ 0.727935   0.439243\n",
       "        2 │ 0.682533   0.956741\n",
       "        3 │ 0.647855   0.996665\n",
       "        4 │ 0.749194   0.491383\n",
       "        5 │ 0.565145   0.626794\n",
       "        6 │ 0.234105   0.672793\n",
       "        7 │ 0.761916   0.588872\n",
       "        8 │ 0.365854   0.946453\n",
       "        9 │ 0.574323   0.67765\n",
       "       10 │ 0.571586   0.701116\n",
       "       11 │ 0.0952175  0.348995\n",
       "    ⋮     │     ⋮         ⋮\n",
       "  9999991 │ 0.382258   0.901623\n",
       "  9999992 │ 0.640595   0.916399\n",
       "  9999993 │ 0.963508   0.301685\n",
       "  9999994 │ 0.846778   0.328575\n",
       "  9999995 │ 0.251749   0.618446\n",
       "  9999996 │ 0.383316   0.470778\n",
       "  9999997 │ 0.362197   0.639499\n",
       "  9999998 │ 0.046897   0.799254\n",
       "  9999999 │ 0.815608   0.663247\n",
       " 10000000 │ 0.61177    0.5798\n",
       "\u001b[36m            9999979 rows omitted\u001b[0m"
      ]
     },
     "execution_count": 20,
     "metadata": {},
     "output_type": "execute_result"
    }
   ],
   "source": [
    "df_test = select(df, :pos => ByRow(first) => :first, :pos => ByRow(last) => :last)"
   ]
  },
  {
   "cell_type": "code",
   "execution_count": 21,
   "metadata": {},
   "outputs": [
    {
     "data": {
      "image/png": "[encoded data removed]",
      "text/plain": [
       "Figure(PyObject <Figure size 640x480 with 1 Axes>)"
      ]
     },
     "metadata": {},
     "output_type": "display_data"
    },
    {
     "name": "stderr",
     "output_type": "stream",
     "text": [
      "┌ Warning: `vendor()` is deprecated, use `BLAS.get_config()` and inspect the output instead\n",
      "│   caller = npyinitialize() at numpy.jl:67\n",
      "└ @ PyCall C:\\Users\\bogum\\.julia\\packages\\PyCall\\3fwVL\\src\\numpy.jl:67\n"
     ]
    }
   ],
   "source": [
    "hist(df_test.first, 100);"
   ]
  },
  {
   "cell_type": "markdown",
   "metadata": {},
   "source": [
    "So far all looks good. But let us look at the distribution of the last dawn random number:"
   ]
  },
  {
   "cell_type": "code",
   "execution_count": 22,
   "metadata": {},
   "outputs": [
    {
     "data": {
      "image/png": "[encoded data removed]",
      "text/plain": [
       "Figure(PyObject <Figure size 640x480 with 1 Axes>)"
      ]
     },
     "metadata": {},
     "output_type": "display_data"
    }
   ],
   "source": [
    "hist(df_test.last, 100);"
   ]
  },
  {
   "cell_type": "markdown",
   "metadata": {},
   "source": [
    "So - is the `rand()` function broken for the last generated random number in each sequence or something else has made the distribution stop being uniform?"
   ]
  }
 ],
 "metadata": {
  "kernelspec": {
   "display_name": "Julia 1.7.0",
   "language": "julia",
   "name": "julia-1.7"
  },
  "language_info": {
   "file_extension": ".jl",
   "mimetype": "application/julia",
   "name": "julia",
   "version": "1.7.0"
  }
 },
 "nbformat": 4,
 "nbformat_minor": 4
}
